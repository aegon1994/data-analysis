{
 "cells": [
  {
   "cell_type": "code",
   "execution_count": 1,
   "id": "b4152936",
   "metadata": {},
   "outputs": [],
   "source": [
    "import pandas as pd\n",
    "\n",
    "dataset = [\n",
    "  ['Milk', 'Onion', 'Nutmeg', 'Kidney' 'Beans', 'Eggs', 'Yogurt'],\n",
    "  ['Dill', 'Onion', 'Nutmeg', 'Kidney' 'Beans', 'Eggs', 'Yogurt'],\n",
    "  ['Milk', 'Apple', 'Kidney' 'Beans', 'Eggs'],\n",
    "  ['Milk', 'Unicorn', 'Corn', 'Kidney' 'Beans', 'Yogurt'],\n",
    "  ['Corn', 'Onion', 'Onion', 'Kidney' 'Beans', 'Ice cream', 'Eggs'],\n",
    "]\n",
    "\n",
    "df = pd.DataFrame(dataset)\n"
   ]
  },
  {
   "cell_type": "code",
   "execution_count": 2,
   "id": "363d1e1b",
   "metadata": {},
   "outputs": [
    {
     "name": "stdout",
     "output_type": "stream",
     "text": [
      "      0        1            2            3          4       5\n",
      "0  Milk    Onion       Nutmeg  KidneyBeans       Eggs  Yogurt\n",
      "1  Dill    Onion       Nutmeg  KidneyBeans       Eggs  Yogurt\n",
      "2  Milk    Apple  KidneyBeans         Eggs       None    None\n",
      "3  Milk  Unicorn         Corn  KidneyBeans     Yogurt    None\n",
      "4  Corn    Onion        Onion  KidneyBeans  Ice cream    Eggs\n"
     ]
    }
   ],
   "source": [
    "print(df)"
   ]
  },
  {
   "cell_type": "code",
   "execution_count": 11,
   "id": "8f3d3540",
   "metadata": {},
   "outputs": [
    {
     "name": "stdout",
     "output_type": "stream",
     "text": [
      "                                    antecedents  \\\n",
      "91                          (2_Nutmeg, 1_Onion)   \n",
      "110                (4_Eggs, 2_Nutmeg, 5_Yogurt)   \n",
      "94                                   (2_Nutmeg)   \n",
      "156  (5_Yogurt, 4_Eggs, 3_KidneyBeans, 1_Onion)   \n",
      "96          (3_KidneyBeans, 5_Yogurt, 2_Nutmeg)   \n",
      "..                                          ...   \n",
      "1                               (3_KidneyBeans)   \n",
      "93                              (3_KidneyBeans)   \n",
      "107                             (3_KidneyBeans)   \n",
      "150                             (3_KidneyBeans)   \n",
      "181                             (3_KidneyBeans)   \n",
      "\n",
      "                               consequents  support  confidence  \n",
      "91                 (4_Eggs, 3_KidneyBeans)      0.4         1.0  \n",
      "110                              (1_Onion)      0.4         1.0  \n",
      "94        (4_Eggs, 3_KidneyBeans, 1_Onion)      0.4         1.0  \n",
      "156                             (2_Nutmeg)      0.4         1.0  \n",
      "96                               (1_Onion)      0.4         1.0  \n",
      "..                                     ...      ...         ...  \n",
      "1                                 (0_Milk)      0.4         0.5  \n",
      "93             (4_Eggs, 2_Nutmeg, 1_Onion)      0.4         0.5  \n",
      "107          (2_Nutmeg, 5_Yogurt, 1_Onion)      0.4         0.5  \n",
      "150           (4_Eggs, 2_Nutmeg, 5_Yogurt)      0.4         0.5  \n",
      "181  (5_Yogurt, 4_Eggs, 2_Nutmeg, 1_Onion)      0.4         0.5  \n",
      "\n",
      "[182 rows x 4 columns]\n"
     ]
    },
    {
     "name": "stderr",
     "output_type": "stream",
     "text": [
      "C:\\Users\\st030\\anaconda3\\lib\\site-packages\\mlxtend\\frequent_patterns\\fpcommon.py:110: DeprecationWarning: DataFrames with non-bool types result in worse computationalperformance and their support might be discontinued in the future.Please use a DataFrame with bool type\n",
      "  warnings.warn(\n"
     ]
    }
   ],
   "source": [
    "from mlxtend.frequent_patterns import apriori\n",
    "from mlxtend.frequent_patterns import association_rules\n",
    "\n",
    "dfe = pd.get_dummies(df,columns = [0,1,2,3,4,5])\n",
    "fi = apriori(dfe, min_support = 0.4, use_colnames = True)\n",
    "rules = association_rules(fi,metric = 'confidence', min_threshold= 0.5)\n",
    "rules.sort_values('confidence',ascending = False, inplace=True)\n",
    "print(rules[['antecedents', 'consequents','support','confidence']])"
   ]
  },
  {
   "cell_type": "code",
   "execution_count": null,
   "id": "cacdcfeb",
   "metadata": {},
   "outputs": [],
   "source": []
  },
  {
   "cell_type": "code",
   "execution_count": null,
   "id": "a37e2b8a",
   "metadata": {},
   "outputs": [],
   "source": []
  }
 ],
 "metadata": {
  "kernelspec": {
   "display_name": "Python 3 (ipykernel)",
   "language": "python",
   "name": "python3"
  },
  "language_info": {
   "codemirror_mode": {
    "name": "ipython",
    "version": 3
   },
   "file_extension": ".py",
   "mimetype": "text/x-python",
   "name": "python",
   "nbconvert_exporter": "python",
   "pygments_lexer": "ipython3",
   "version": "3.9.7"
  }
 },
 "nbformat": 4,
 "nbformat_minor": 5
}
