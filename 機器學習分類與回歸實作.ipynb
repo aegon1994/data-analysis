{
 "cells": [
  {
   "cell_type": "code",
   "execution_count": 9,
   "id": "2fad96bd",
   "metadata": {},
   "outputs": [
    {
     "name": "stdout",
     "output_type": "stream",
     "text": [
      "['Yes' 'Yes' 'Yes']\n",
      "  Purchased\n",
      "7       Yes\n",
      "8        No\n",
      "9       Yes\n"
     ]
    }
   ],
   "source": [
    "import pandas as pd\n",
    "import statsmodels.api as sm\n",
    "from sklearn.model_selection import train_test_split\n",
    "from sklearn.tree import DecisionTreeClassifier\n",
    "\n",
    "source = 'https://raw.githubusercontent.com/MachineLearningLiuMing/scikit-learn-primer-guide/master/Data.csv'\n",
    "df = pd.read_csv(source)\n",
    "dfe = pd.get_dummies(df,columns=['Country'])\n",
    "amean = dfe['Age'].mean()\n",
    "smean = dfe['Salary'].mean()\n",
    "v ={'Age':amean, 'Salary':smean}\n",
    "dfe.fillna(v,inplace=True)\n",
    "dftestx=dfe.loc[7:,['Age','Salary','Country_France','Country_Germany', 'Country_Spain']]\n",
    "dftrainx = dfe.loc[:7,['Age','Salary','Country_France','Country_Germany', 'Country_Spain']]\n",
    "dftrainy = dfe.loc[:7,['Purchased']]\n",
    "dftesty = dfe.loc[7:,['Purchased']]\n",
    "model = DecisionTreeClassifier()\n",
    "model.fit(dftrainx,dftrainy)\n",
    "yr = model.predict(dftestx)\n",
    "print(yr)\n",
    "print(dftesty)"
   ]
  },
  {
   "cell_type": "code",
   "execution_count": 14,
   "id": "978da27e",
   "metadata": {},
   "outputs": [
    {
     "name": "stdout",
     "output_type": "stream",
     "text": [
      "[79000. 72000. 58000.]\n",
      "    Salary\n",
      "7  79000.0\n",
      "8  83000.0\n",
      "9  67000.0\n"
     ]
    }
   ],
   "source": [
    "from sklearn.tree import DecisionTreeRegressor\n",
    "from sklearn.preprocessing import LabelEncoder\n",
    "\n",
    "le = LabelEncoder()\n",
    "dfe['lep'] = le.fit_transform(dfe['Purchased'])\n",
    "dftestx1=dfe.loc[7:,['Age','lep','Country_France','Country_Germany', 'Country_Spain']]\n",
    "dftrainx1 = dfe.loc[:7,['Age','lep','Country_France','Country_Germany', 'Country_Spain']]\n",
    "dftrainy1 = dfe.loc[:7,['Salary']]\n",
    "dftesty1 = dfe.loc[7:,['Salary']]\n",
    "model = DecisionTreeRegressor()\n",
    "model.fit(dftrainx1,dftrainy1)\n",
    "yr1 = model.predict(dftestx1)\n",
    "print(yr1)\n",
    "print(dftesty1)"
   ]
  },
  {
   "cell_type": "code",
   "execution_count": null,
   "id": "c7ed7db4",
   "metadata": {},
   "outputs": [],
   "source": []
  }
 ],
 "metadata": {
  "kernelspec": {
   "display_name": "Python 3 (ipykernel)",
   "language": "python",
   "name": "python3"
  },
  "language_info": {
   "codemirror_mode": {
    "name": "ipython",
    "version": 3
   },
   "file_extension": ".py",
   "mimetype": "text/x-python",
   "name": "python",
   "nbconvert_exporter": "python",
   "pygments_lexer": "ipython3",
   "version": "3.9.7"
  }
 },
 "nbformat": 4,
 "nbformat_minor": 5
}
