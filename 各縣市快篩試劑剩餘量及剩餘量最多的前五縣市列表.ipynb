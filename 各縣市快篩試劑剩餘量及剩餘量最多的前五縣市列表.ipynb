{
 "cells": [
  {
   "cell_type": "code",
   "execution_count": 11,
   "id": "822bd0ed",
   "metadata": {},
   "outputs": [],
   "source": [
    "import pandas as pd\n",
    "import numpy as np\n",
    "df =pd.read_csv('https://data.nhi.gov.tw/resource/Nhi_Fst/Fstdata.csv')\n",
    "df['縣市'] = df['醫事機構地址'].str.slice(stop=3)\n",
    "df.set_index('縣市')\n",
    "g = df.groupby('縣市')\n",
    "r = g.agg({'快篩試劑截至目前結餘存貨數量':'sum'})\n",
    "rs=r.sort_values(by='快篩試劑截至目前結餘存貨數量',ascending=False)"
   ]
  },
  {
   "cell_type": "code",
   "execution_count": 18,
   "id": "3f0db08e",
   "metadata": {},
   "outputs": [
    {
     "name": "stdout",
     "output_type": "stream",
     "text": [
      "     快篩試劑截至目前結餘存貨數量\n",
      "縣市                 \n",
      "新北市           44208\n",
      "臺中市           34604\n",
      "高雄市           33899\n",
      "臺北市           30263\n",
      "臺南市           25687\n",
      "桃園市           24571\n",
      "彰化縣           15878\n",
      "苗栗縣           12265\n",
      "雲林縣           11650\n",
      "屏東縣            9630\n",
      "南投縣            7691\n",
      "嘉義縣            6130\n",
      "新竹縣            5541\n",
      "嘉義市            5435\n",
      "基隆市            4952\n",
      "新竹市            4606\n",
      "花蓮縣            4532\n",
      "宜蘭縣            4409\n",
      "臺東縣            2157\n",
      "澎湖縣            1676\n",
      "連江縣            1010\n",
      "金門縣             530\n"
     ]
    }
   ],
   "source": [
    "print(rs)"
   ]
  },
  {
   "cell_type": "code",
   "execution_count": 27,
   "id": "1e8ace90",
   "metadata": {},
   "outputs": [
    {
     "name": "stdout",
     "output_type": "stream",
     "text": [
      "    縣市\n",
      "0  新北市\n",
      "1  臺中市\n",
      "2  高雄市\n",
      "3  臺北市\n",
      "4  臺南市\n"
     ]
    }
   ],
   "source": [
    "rsi = rs.reset_index()\n",
    "rsil = rsi.loc[0:4,['縣市']]\n",
    "print(rsil)"
   ]
  },
  {
   "cell_type": "code",
   "execution_count": null,
   "id": "72c4ce9a",
   "metadata": {},
   "outputs": [],
   "source": []
  }
 ],
 "metadata": {
  "kernelspec": {
   "display_name": "Python 3 (ipykernel)",
   "language": "python",
   "name": "python3"
  },
  "language_info": {
   "codemirror_mode": {
    "name": "ipython",
    "version": 3
   },
   "file_extension": ".py",
   "mimetype": "text/x-python",
   "name": "python",
   "nbconvert_exporter": "python",
   "pygments_lexer": "ipython3",
   "version": "3.9.7"
  }
 },
 "nbformat": 4,
 "nbformat_minor": 5
}
