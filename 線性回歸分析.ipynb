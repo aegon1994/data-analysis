{
 "cells": [
  {
   "cell_type": "code",
   "execution_count": 1,
   "id": "a8d91112",
   "metadata": {},
   "outputs": [
    {
     "name": "stdout",
     "output_type": "stream",
     "text": [
      "       type  fixed acidity  volatile acidity  citric acid  residual sugar  \\\n",
      "0       red            7.4              0.70         0.00             1.9   \n",
      "1       red            7.8              0.88         0.00             2.6   \n",
      "2       red            7.8              0.76         0.04             2.3   \n",
      "3       red           11.2              0.28         0.56             1.9   \n",
      "4       red            7.4              0.70         0.00             1.9   \n",
      "...     ...            ...               ...          ...             ...   \n",
      "6492  white            6.2              0.21         0.29             1.6   \n",
      "6493  white            6.6              0.32         0.36             8.0   \n",
      "6494  white            6.5              0.24         0.19             1.2   \n",
      "6495  white            5.5              0.29         0.30             1.1   \n",
      "6496  white            6.0              0.21         0.38             0.8   \n",
      "\n",
      "      chlorides  free sulfur dioxide  total sulfur dioxide  density    pH  \\\n",
      "0         0.076                 11.0                  34.0  0.99780  3.51   \n",
      "1         0.098                 25.0                  67.0  0.99680  3.20   \n",
      "2         0.092                 15.0                  54.0  0.99700  3.26   \n",
      "3         0.075                 17.0                  60.0  0.99800  3.16   \n",
      "4         0.076                 11.0                  34.0  0.99780  3.51   \n",
      "...         ...                  ...                   ...      ...   ...   \n",
      "6492      0.039                 24.0                  92.0  0.99114  3.27   \n",
      "6493      0.047                 57.0                 168.0  0.99490  3.15   \n",
      "6494      0.041                 30.0                 111.0  0.99254  2.99   \n",
      "6495      0.022                 20.0                 110.0  0.98869  3.34   \n",
      "6496      0.020                 22.0                  98.0  0.98941  3.26   \n",
      "\n",
      "      sulphates  alcohol  quality  \n",
      "0          0.56      9.4        5  \n",
      "1          0.68      9.8        5  \n",
      "2          0.65      9.8        5  \n",
      "3          0.58      9.8        6  \n",
      "4          0.56      9.4        5  \n",
      "...         ...      ...      ...  \n",
      "6492       0.50     11.2        6  \n",
      "6493       0.46      9.6        5  \n",
      "6494       0.46      9.4        6  \n",
      "6495       0.38     12.8        7  \n",
      "6496       0.32     11.8        6  \n",
      "\n",
      "[6497 rows x 13 columns]\n"
     ]
    }
   ],
   "source": [
    "import pandas as pd\n",
    "import statsmodels.api as sm\n",
    "\n",
    "source = 'https://raw.githubusercontent.com/cbrownley/foundations-for-analytics-with-python/master/statistics/winequality-both.csv'\n",
    "df = pd.read_csv(source)\n",
    "print(df)"
   ]
  },
  {
   "cell_type": "code",
   "execution_count": 13,
   "id": "b3108f99",
   "metadata": {},
   "outputs": [
    {
     "name": "stdout",
     "output_type": "stream",
     "text": [
      "                            OLS Regression Results                            \n",
      "==============================================================================\n",
      "Dep. Variable:                quality   R-squared:                       0.292\n",
      "Model:                            OLS   Adj. R-squared:                  0.291\n",
      "Method:                 Least Squares   F-statistic:                     242.8\n",
      "Date:                Fri, 02 Jun 2023   Prob (F-statistic):               0.00\n",
      "Time:                        22:32:55   Log-Likelihood:                -7207.6\n",
      "No. Observations:                6487   AIC:                         1.444e+04\n",
      "Df Residuals:                    6475   BIC:                         1.452e+04\n",
      "Df Model:                          11                                         \n",
      "Covariance Type:            nonrobust                                         \n",
      "========================================================================================\n",
      "                           coef    std err          t      P>|t|      [0.025      0.975]\n",
      "----------------------------------------------------------------------------------------\n",
      "const                   56.0051     11.902      4.706      0.000      32.674      79.337\n",
      "alcohol                  0.2665      0.017     15.920      0.000       0.234       0.299\n",
      "chlorides               -0.4858      0.333     -1.459      0.145      -1.138       0.167\n",
      "citric acid             -0.1078      0.080     -1.353      0.176      -0.264       0.048\n",
      "density                -55.2145     12.146     -4.546      0.000     -79.024     -31.405\n",
      "fixed acidity            0.0680      0.016      4.359      0.000       0.037       0.099\n",
      "free sulfur dioxide      0.0060      0.001      7.962      0.000       0.005       0.007\n",
      "pH                       0.4411      0.090      4.875      0.000       0.264       0.619\n",
      "residual sugar           0.0436      0.005      8.451      0.000       0.033       0.054\n",
      "sulphates                0.7690      0.076     10.095      0.000       0.620       0.918\n",
      "total sulfur dioxide    -0.0025      0.000     -8.972      0.000      -0.003      -0.002\n",
      "volatile acidity        -1.3270      0.077    -17.139      0.000      -1.479      -1.175\n",
      "==============================================================================\n",
      "Omnibus:                      143.514   Durbin-Watson:                   1.646\n",
      "Prob(Omnibus):                  0.000   Jarque-Bera (JB):              323.066\n",
      "Skew:                          -0.006   Prob(JB):                     7.03e-71\n",
      "Kurtosis:                       4.093   Cond. No.                     2.49e+05\n",
      "==============================================================================\n",
      "\n",
      "Notes:\n",
      "[1] Standard Errors assume that the covariance matrix of the errors is correctly specified.\n",
      "[2] The condition number is large, 2.49e+05. This might indicate that there are\n",
      "strong multicollinearity or other numerical problems.\n",
      "6487    5.439116\n",
      "6488    5.688767\n",
      "6489    6.121787\n",
      "6490    5.931745\n",
      "6491    5.661985\n",
      "6492    6.169059\n",
      "6493    5.608899\n",
      "6494    5.419422\n",
      "6495    6.432345\n",
      "6496    6.205833\n",
      "dtype: float64\n"
     ]
    },
    {
     "name": "stderr",
     "output_type": "stream",
     "text": [
      "C:\\Users\\st030\\anaconda3\\lib\\site-packages\\statsmodels\\tsa\\tsatools.py:142: FutureWarning: In a future version of pandas all arguments of concat except for the argument 'objs' will be keyword-only\n",
      "  x = pd.concat(x[::order], 1)\n"
     ]
    }
   ],
   "source": [
    "\n",
    "test = df.iloc[6487:]\n",
    "testy = test['quality']\n",
    "testX = sm.add_constant(test[test.columns.difference(['type','quality'])])\n",
    "\n",
    "train = df.iloc[:6487]\n",
    "y = train['quality']\n",
    "X = sm.add_constant(train[train.columns.difference(['type','quality'])])\n",
    "\n",
    "model = sm.OLS(y,X).fit() # 用train資料建立回歸模型\n",
    "\n",
    "print(model.summary()) # 印出模型相關統計資訊\n",
    "print(model.predict(testX)) #用模型與test資料中的自變數預測應變數"
   ]
  },
  {
   "cell_type": "code",
   "execution_count": null,
   "id": "daff9dd0",
   "metadata": {},
   "outputs": [],
   "source": []
  }
 ],
 "metadata": {
  "kernelspec": {
   "display_name": "Python 3 (ipykernel)",
   "language": "python",
   "name": "python3"
  },
  "language_info": {
   "codemirror_mode": {
    "name": "ipython",
    "version": 3
   },
   "file_extension": ".py",
   "mimetype": "text/x-python",
   "name": "python",
   "nbconvert_exporter": "python",
   "pygments_lexer": "ipython3",
   "version": "3.9.7"
  }
 },
 "nbformat": 4,
 "nbformat_minor": 5
}
